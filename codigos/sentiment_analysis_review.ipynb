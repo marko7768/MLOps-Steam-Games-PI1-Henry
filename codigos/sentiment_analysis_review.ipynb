{
 "cells": [
  {
   "cell_type": "code",
   "execution_count": null,
   "metadata": {},
   "outputs": [],
   "source": [
    "import pandas as pd\n",
    "from textblob import TextBlob"
   ]
  },
  {
   "cell_type": "code",
   "execution_count": null,
   "metadata": {},
   "outputs": [],
   "source": [
    "df_reviews = pd.read_csv('datos/user_reviews_clean.csv', encoding='utf-8')\n",
    "df_reviews.head()"
   ]
  },
  {
   "cell_type": "code",
   "execution_count": null,
   "metadata": {},
   "outputs": [],
   "source": [
    "# Función para analizar la polaridad de una revisión\n",
    "def analizar_polaridad(review):\n",
    "    \n",
    "    analysis = TextBlob(review)\n",
    "    polaridad = analysis.sentiment.polarity\n",
    "    if polaridad < -0.1:\n",
    "        return 0  # Revisión mala\n",
    "    elif polaridad > 0.1:\n",
    "        return 2  # Revisión positiva\n",
    "    else:\n",
    "        return 1  # Revisión neutra"
   ]
  },
  {
   "cell_type": "code",
   "execution_count": null,
   "metadata": {},
   "outputs": [],
   "source": [
    "# Aplicar la función de análisis de polaridad a las revisiones\n",
    "df_reviews['sentiment_analysis'] = df_reviews['reviews_review'].apply(analizar_polaridad)"
   ]
  },
  {
   "cell_type": "code",
   "execution_count": null,
   "metadata": {},
   "outputs": [],
   "source": [
    "df_reviews.head()"
   ]
  },
  {
   "cell_type": "code",
   "execution_count": null,
   "metadata": {},
   "outputs": [],
   "source": [
    "# Se elimina la columna reviews_reviews\n",
    "df_reviews = df_reviews.drop(columns=['reviews_review'])\n",
    "df_reviews.columns"
   ]
  },
  {
   "cell_type": "code",
   "execution_count": null,
   "metadata": {},
   "outputs": [],
   "source": [
    "#exporto a csv\n",
    "reviews_clean = 'datos/user_reviews_clean.csv'\n",
    "df_reviews.to_csv(reviews_clean, index=False, encoding='utf-8')"
   ]
  }
 ],
 "metadata": {
  "language_info": {
   "name": "python"
  }
 },
 "nbformat": 4,
 "nbformat_minor": 2
}
