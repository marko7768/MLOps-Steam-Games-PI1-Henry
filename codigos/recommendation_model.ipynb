{
 "cells": [
  {
   "cell_type": "code",
   "execution_count": null,
   "metadata": {},
   "outputs": [],
   "source": [
    "from sklearn.preprocessing import MinMaxScaler\n",
    "from sklearn.metrics.pairwise import cosine_similarity\n",
    "import pandas as pd\n",
    "import numpy as np\n",
    "import scipy as sp\n",
    "from sklearn.preprocessing import StandardScaler\n",
    "import pyarrow.parquet as pq\n",
    "import pyarrow as pa\n",
    "import operator"
   ]
  },
  {
   "cell_type": "code",
   "execution_count": null,
   "metadata": {},
   "outputs": [],
   "source": [
    "df_model = pd.read_parquet('data/recommendation_model.parquet')"
   ]
  },
  {
   "cell_type": "code",
   "execution_count": null,
   "metadata": {},
   "outputs": [],
   "source": [
    "df_model"
   ]
  },
  {
   "cell_type": "code",
   "execution_count": null,
   "metadata": {},
   "outputs": [],
   "source": [
    "# se crea la tabla pivot\n",
    "piv_table = df_model.pivot_table(index=['user_id'], columns=['item_name'], values='combined_metric')\n",
    "piv_table"
   ]
  },
  {
   "cell_type": "code",
   "execution_count": null,
   "metadata": {},
   "outputs": [],
   "source": [
    "# Se normaliza la matriz pivot con la formula de normalizacion\n",
    "piv_table_norm = piv_table.apply(lambda x: (x-np.mean(x))/(np.max(x)-np.min(x)), axis=1)"
   ]
  },
  {
   "cell_type": "code",
   "execution_count": null,
   "metadata": {},
   "outputs": [],
   "source": [
    "# Se transpone la matriz, para tener juegos en filas\n",
    "piv_table_norm.fillna(0, inplace=True)\n",
    "piv_table_norm = piv_table_norm.T\n",
    "# Se manteniene solo las columnas que tienen al menos un valor distinto de cero\n",
    "piv_table_norm = piv_table_norm.loc[:, (piv_table_norm != 0).any(axis=0)]"
   ]
  },
  {
   "cell_type": "code",
   "execution_count": null,
   "metadata": {},
   "outputs": [],
   "source": [
    "piv_table_norm"
   ]
  },
  {
   "cell_type": "code",
   "execution_count": null,
   "metadata": {},
   "outputs": [],
   "source": [
    "# Reemplazar los valores infinitos con un valor específico\n",
    "piv_table_norm.replace([np.inf, -np.inf], np.nan, inplace=True)\n",
    "piv_table_norm.fillna(0, inplace=True)"
   ]
  },
  {
   "cell_type": "code",
   "execution_count": null,
   "metadata": {},
   "outputs": [],
   "source": [
    "# Se crea una tabla sparse que solo guarda valores distintos de cero y permite optimizar \n",
    "piv_sparse = sp.sparse.csr_matrix(piv_table_norm.values)\n",
    "piv_sparse"
   ]
  },
  {
   "cell_type": "code",
   "execution_count": null,
   "metadata": {},
   "outputs": [],
   "source": [
    "# Se deja en filas para cada uno de los endpoints el respectivo items o user segun corresponda, para hacer operaciones\n",
    "item_simil = cosine_similarity(piv_sparse)\n",
    "user_simil = cosine_similarity(piv_sparse.T)"
   ]
  },
  {
   "cell_type": "code",
   "execution_count": null,
   "metadata": {},
   "outputs": [],
   "source": [
    "# Se ordenan en df para poder exportarlos luego y para manejarlos más sencillo\n",
    "df_item_simil = pd.DataFrame(item_simil, index = piv_table_norm.index, columns = piv_table_norm.index)\n",
    "df_user_simil = pd.DataFrame(user_simil, index = piv_table_norm.columns, columns = piv_table_norm.columns)"
   ]
  },
  {
   "cell_type": "code",
   "execution_count": null,
   "metadata": {},
   "outputs": [],
   "source": [
    "df_item_simil.head(2)"
   ]
  },
  {
   "cell_type": "code",
   "execution_count": null,
   "metadata": {},
   "outputs": [],
   "source": [
    "df_user_simil.head(2)"
   ]
  },
  {
   "cell_type": "code",
   "execution_count": null,
   "metadata": {},
   "outputs": [],
   "source": [
    "#se hace una funcion para que tenga de entrada el juego y el dataframe y busque los juegos más similares\n",
    "def recommended_games_item(game, df_item_simil):\n",
    "    similar_games = {}\n",
    "    count = 1\n",
    "    for item in df_item_simil.sort_values(by=game, ascending=False).index[1:6]:\n",
    "        similar_games[f\"Recomendación {count}\"] = item\n",
    "        count += 1\n",
    "    return similar_games"
   ]
  },
  {
   "cell_type": "code",
   "execution_count": null,
   "metadata": {},
   "outputs": [],
   "source": [
    "recommended_games_item('0RBITALIS',df_item_simil)"
   ]
  },
  {
   "cell_type": "code",
   "execution_count": null,
   "metadata": {},
   "outputs": [],
   "source": [
    "'''\n",
    "    Se crea una funcion para las recomendaciones basadas en un usuario, para esto\n",
    "    se tomarán las calificaciones que tienen los usuarios similares \n",
    "    y las veces que se recomienda cada juego por los usuarios similares.\n",
    "\n",
    "'''\n",
    "def similar_user_recs(user):\n",
    "    \n",
    "    # Se verifica si el usuario está presente en las columnas de piv_table_norm\n",
    "    if user not in piv_table_norm.columns:\n",
    "        return {'message': 'El Usuario no tiene datos disponibles {}'.format(user)}\n",
    "\n",
    "    # Se obtienen los usuarios más similares \n",
    "    sim_users = df_user_simil.sort_values(by=user, ascending=False).index[1:11]\n",
    "\n",
    "    best = []  \n",
    "    most_common = {}  \n",
    "\n",
    "    # Por cada usuario similar, encuentra el juego mejor calificado y lo agrega a la lista 'best'\n",
    "    for i in sim_users:\n",
    "        max_score = piv_table_norm.loc[:, i].max()\n",
    "        best.append(piv_table_norm[piv_table_norm.loc[:, i] == max_score].index.tolist())\n",
    "\n",
    "    # Se cuenta cuántas veces se recomienda cada juego\n",
    "    for i in range(len(best)):\n",
    "        for j in best[i]:\n",
    "            if j in most_common:\n",
    "                most_common[j] += 1\n",
    "            else:\n",
    "                most_common[j] = 1\n",
    "\n",
    "    # Se ordenan los juegos de mayor recomendacion\n",
    "    sorted_list = sorted(most_common.items(), key=operator.itemgetter(1), reverse=True)\n",
    "\n",
    "    return dict(sorted_list[:5])"
   ]
  },
  {
   "cell_type": "code",
   "execution_count": null,
   "metadata": {},
   "outputs": [],
   "source": [
    "similar_user_recs('76561197970982479')"
   ]
  },
  {
   "cell_type": "code",
   "execution_count": null,
   "metadata": {},
   "outputs": [],
   "source": [
    "pq.write_table(pa.Table.from_pandas(piv_table_norm), 'datos/piv_table_norm.parquet')\n",
    "pq.write_table(pa.Table.from_pandas(df_user_simil), 'datos/df_user_simil.parquet')\n",
    "pq.write_table(pa.Table.from_pandas(df_item_simil), 'datos/df_item_simil.parquet')"
   ]
  }
 ],
 "metadata": {
  "language_info": {
   "name": "python"
  }
 },
 "nbformat": 4,
 "nbformat_minor": 2
}
