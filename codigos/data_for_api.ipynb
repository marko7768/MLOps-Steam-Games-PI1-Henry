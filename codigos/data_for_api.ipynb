{
 "cells": [
  {
   "cell_type": "code",
   "execution_count": null,
   "metadata": {},
   "outputs": [],
   "source": [
    "import pandas as pd\n",
    "import pyarrow as pa\n",
    "import pyarrow.parquet as pq"
   ]
  },
  {
   "cell_type": "code",
   "execution_count": null,
   "metadata": {},
   "outputs": [],
   "source": [
    "#importo csv\n",
    "df_reviews = pd.read_csv('data/user_reviews_clean.csv', encoding='utf-8')\n",
    "df_games = pd.read_csv('data/steam_games_clean.csv', encoding='utf-8')\n",
    "df_items = pd.read_csv('data/user_items_clean.csv', encoding='utf-8')"
   ]
  },
  {
   "cell_type": "code",
   "execution_count": null,
   "metadata": {},
   "outputs": [],
   "source": [
    "# Se hace un subconjunto con los que serán necesarios para la consulta\n",
    "contenido_free_items = df_games[['price', 'release_year', 'developer', 'id']]\n",
    "# Se renombra la columna para luego poder unirla con items\n",
    "contenido_free_items = contenido_free_items.rename(columns={'id':'item_id'})"
   ]
  },
  {
   "cell_type": "code",
   "execution_count": null,
   "metadata": {},
   "outputs": [],
   "source": [
    "contenido_free_items.head(2)"
   ]
  },
  {
   "cell_type": "code",
   "execution_count": null,
   "metadata": {},
   "outputs": [],
   "source": [
    "# Se toman las columnas que serán necesarias\n",
    "df_price = df_games[['price', 'id']]\n",
    "# Se renombra la columna para luego poder unirla con items\n",
    "df_price = df_price.rename(columns={'id':'item_id'})"
   ]
  },
  {
   "cell_type": "code",
   "execution_count": null,
   "metadata": {},
   "outputs": [],
   "source": [
    "# Se toman las columnas que serán necesarias\n",
    "df_price_items = df_items[['items_count', 'user_id', 'item_id']]\n",
    "df_price_items.head(2)"
   ]
  },
  {
   "cell_type": "code",
   "execution_count": null,
   "metadata": {},
   "outputs": [],
   "source": [
    "# Se hace un merge entre las dos tablas anteriores\n",
    "df_price_items = df_price_items.merge(df_price, on='item_id',how='left')\n",
    "df_price_items.head()"
   ]
  },
  {
   "cell_type": "code",
   "execution_count": null,
   "metadata": {},
   "outputs": [],
   "source": [
    "# Se hace una revision de nulos para los precios \n",
    "df_price_items['price'].isna().sum()"
   ]
  },
  {
   "cell_type": "code",
   "execution_count": null,
   "metadata": {},
   "outputs": [],
   "source": [
    "# Los precios que tienen nulos, como no tienen asignado un precio se imputaran ceros \n",
    "df_price_items['price'] = df_price_items['price'].fillna(0)"
   ]
  },
  {
   "cell_type": "code",
   "execution_count": null,
   "metadata": {},
   "outputs": [],
   "source": [
    "df_price_items"
   ]
  },
  {
   "cell_type": "code",
   "execution_count": null,
   "metadata": {},
   "outputs": [],
   "source": [
    "# Ya que se termino con el merge, se puede eliminar la columna ites_id\n",
    "df_price_items = df_price_items.drop('item_id', axis=1)"
   ]
  },
  {
   "cell_type": "code",
   "execution_count": null,
   "metadata": {},
   "outputs": [],
   "source": [
    "# Ahora sería de utilidad poder agrupar por usuario y saber cuanto es la sumna de price por usuario\n",
    "df_price_user = df_price_items.groupby('user_id')['price'].sum().reset_index()\n",
    "df_price_user"
   ]
  },
  {
   "cell_type": "code",
   "execution_count": null,
   "metadata": {},
   "outputs": [],
   "source": [
    "# Se retoman las columnas necesarias\n",
    "df_items_count = df_price_items[['items_count','user_id']]\n",
    "# Y se eliminan los duplicados para poder unirlos con el df_price_user\n",
    "df_items_count = df_items_count.drop_duplicates(subset='user_id', keep='first')"
   ]
  },
  {
   "cell_type": "code",
   "execution_count": null,
   "metadata": {},
   "outputs": [],
   "source": [
    "df_items_count"
   ]
  },
  {
   "cell_type": "code",
   "execution_count": null,
   "metadata": {},
   "outputs": [],
   "source": [
    "# Ya se tiene el mismo numero de filas, se procede a hacer el merge\n",
    "df_user_data = df_items_count.merge(df_price_user, on='user_id', how='right')\n",
    "df_user_data"
   ]
  },
  {
   "cell_type": "code",
   "execution_count": null,
   "metadata": {},
   "outputs": [],
   "source": [
    "# Se seleccionan las que serán utiles para Horas por usuario\n",
    "df_user_playtime = df_items[['playtime_forever', 'user_id', 'item_id']]\n",
    "df_user_playtime.head()"
   ]
  },
  {
   "cell_type": "code",
   "execution_count": null,
   "metadata": {},
   "outputs": [],
   "source": [
    "# Se va a necesitar tambien items y genero\n",
    "df_items_genre = df_games[['genres','id','release_year']]\n",
    "df_items_genre = df_items_genre.rename(columns={'id':'item_id'})\n",
    "df_items_genre"
   ]
  },
  {
   "cell_type": "code",
   "execution_count": null,
   "metadata": {},
   "outputs": [],
   "source": [
    "# Se hace un merge de los data frames anteriores\n",
    "df_user_time_genre = df_user_playtime.merge(df_items_genre, on='item_id')\n",
    "df_user_time_genre"
   ]
  },
  {
   "cell_type": "code",
   "execution_count": null,
   "metadata": {},
   "outputs": [],
   "source": [
    "# Se hace la agrupacion \n",
    "df_user_time_genre = df_user_time_genre.groupby(['genres', 'user_id', 'release_year'])['playtime_forever'].sum().reset_index()\n",
    "# Se convierte a horas el tiempo jugado\n",
    "df_user_time_genre['playtime_hrs'] = df_user_time_genre['playtime_forever']/60\n",
    "# Se elimina la columna anterior de tiempo jugado\n",
    "df_user_time_genre = df_user_time_genre.drop('playtime_forever', axis=1)\n",
    "df_user_time_genre"
   ]
  },
  {
   "cell_type": "code",
   "execution_count": null,
   "metadata": {},
   "outputs": [],
   "source": [
    "# Se cargan los datasets con las columnas que serán necesarias\n",
    "df_dev = df_games[['developer','id','release_year']]\n",
    "df_items_conect = df_items[['item_id','user_id']]\n",
    "df_reviews_sentiment = df_reviews[['sentiment_analysis','reviews_recommend','user_id']]"
   ]
  },
  {
   "cell_type": "code",
   "execution_count": null,
   "metadata": {},
   "outputs": [],
   "source": [
    "# Se prepara para hacer el merge\n",
    "df_dev = df_dev.rename(columns={'id':'item_id'})"
   ]
  },
  {
   "cell_type": "code",
   "execution_count": null,
   "metadata": {},
   "outputs": [],
   "source": [
    "# Se aplica el merge sobre items\n",
    "df_dev_items = df_dev.merge(df_items_conect,on='item_id')"
   ]
  },
  {
   "cell_type": "code",
   "execution_count": null,
   "metadata": {},
   "outputs": [],
   "source": [
    "df_dev_items"
   ]
  },
  {
   "cell_type": "code",
   "execution_count": null,
   "metadata": {},
   "outputs": [],
   "source": [
    "# se procede a unir con el ultimo dataframe\n",
    "df_reviews_dev = df_reviews_sentiment.merge(df_dev_items,on='user_id')"
   ]
  },
  {
   "cell_type": "code",
   "execution_count": null,
   "metadata": {},
   "outputs": [],
   "source": [
    "#reviso duplicados\n",
    "df_reviews_dev.duplicated().sum()"
   ]
  },
  {
   "cell_type": "code",
   "execution_count": null,
   "metadata": {},
   "outputs": [],
   "source": [
    "#elimino duplicados\n",
    "df_reviews_dev.drop_duplicates(inplace=True)"
   ]
  },
  {
   "cell_type": "code",
   "execution_count": null,
   "metadata": {},
   "outputs": [],
   "source": [
    "#vulvo a contarduplicados\n",
    "df_reviews_dev.duplicated().sum()"
   ]
  },
  {
   "cell_type": "code",
   "execution_count": null,
   "metadata": {},
   "outputs": [],
   "source": [
    "df_reviews_dev"
   ]
  },
  {
   "cell_type": "code",
   "execution_count": null,
   "metadata": {},
   "outputs": [],
   "source": [
    "# Se elimina la columna que sirvio como union\n",
    "df_reviews_dev = df_reviews_dev.drop(columns='item_id', axis=1)"
   ]
  },
  {
   "cell_type": "code",
   "execution_count": null,
   "metadata": {},
   "outputs": [],
   "source": [
    "df_reviews_dev.columns"
   ]
  },
  {
   "cell_type": "code",
   "execution_count": null,
   "metadata": {},
   "outputs": [],
   "source": [
    "# Ahora solo dejamos los registros con review igual a true y con analisis de sentimiento = 2\n",
    "df_best_developer_year = df_reviews_dev[(df_reviews_dev['reviews_recommend'] == True) & (df_reviews_dev['sentiment_analysis'] == 2)]"
   ]
  },
  {
   "cell_type": "code",
   "execution_count": null,
   "metadata": {},
   "outputs": [],
   "source": [
    "df_best_developer_year.head()"
   ]
  },
  {
   "cell_type": "code",
   "execution_count": null,
   "metadata": {},
   "outputs": [],
   "source": [
    "#cambio a tipo int release_year\n",
    "df_best_developer_year = df_best_developer_year.copy()\n",
    "df_best_developer_year['release_year'] = df_best_developer_year['release_year'].astype(int)"
   ]
  },
  {
   "cell_type": "code",
   "execution_count": null,
   "metadata": {},
   "outputs": [],
   "source": [
    "df_best_developer_year.head()"
   ]
  },
  {
   "cell_type": "code",
   "execution_count": null,
   "metadata": {},
   "outputs": [],
   "source": [
    "# Se crea el data frame para developer_review_analysis llamado: df_dev_rev_analysis\n",
    "df_dev_rev_analysis = df_reviews_dev[['developer','sentiment_analysis']]\n",
    "df_dev_rev_analysis"
   ]
  },
  {
   "cell_type": "code",
   "execution_count": null,
   "metadata": {},
   "outputs": [],
   "source": [
    "df_dev_rev_analysis['sentiment_analysis'].nunique()"
   ]
  },
  {
   "cell_type": "code",
   "execution_count": null,
   "metadata": {},
   "outputs": [],
   "source": [
    "# convierto a parquet contenido_free_items\n",
    "contenido_free_ruta = 'datos/contenido_free_items.parquet'\n",
    "contenido_free_items.to_parquet(contenido_free_ruta, index=False)"
   ]
  },
  {
   "cell_type": "code",
   "execution_count": null,
   "metadata": {},
   "outputs": [],
   "source": [
    "# convierto a parquet df_user_data\n",
    "user_data_ruta = 'datos/user_data_price.parquet'\n",
    "df_user_data.to_parquet(user_data_ruta, index=False)"
   ]
  },
  {
   "cell_type": "code",
   "execution_count": null,
   "metadata": {},
   "outputs": [],
   "source": [
    "#convierto a parquet user_for_genre\n",
    "user_time_genre_ruta = 'datos/user_for_genre.parquet'\n",
    "df_user_time_genre.to_parquet(user_time_genre_ruta, index=False)"
   ]
  },
  {
   "cell_type": "code",
   "execution_count": null,
   "metadata": {},
   "outputs": [],
   "source": [
    "# convierto a parquet best_developer_year\n",
    "developer_year_ruta = 'datos/best_developer_year.parquet'\n",
    "df_best_developer_year.to_parquet(developer_year_ruta, index=False)"
   ]
  },
  {
   "cell_type": "code",
   "execution_count": null,
   "metadata": {},
   "outputs": [],
   "source": [
    "# convierto a parquet developer_review_analysis\n",
    "dev_rev_analysis_ruta = 'datos/dev_rev_analysis.parquet'\n",
    "df_dev_rev_analysis.to_parquet(dev_rev_analysis_ruta, index=False)"
   ]
  },
  {
   "cell_type": "code",
   "execution_count": null,
   "metadata": {},
   "outputs": [],
   "source": [
    "#convierto a parquet user_reviews_clean\n",
    "user_reviews_ruta = 'datos/user_reviews_clean.parquet'\n",
    "df_reviews.to_parquet(user_reviews_ruta, index=False)"
   ]
  }
 ],
 "metadata": {
  "language_info": {
   "name": "python"
  }
 },
 "nbformat": 4,
 "nbformat_minor": 2
}
